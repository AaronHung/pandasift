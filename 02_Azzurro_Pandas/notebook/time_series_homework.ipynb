{
 "cells": [
  {
   "cell_type": "markdown",
   "id": "b8291ec0",
   "metadata": {},
   "source": [
    "Import pandas"
   ]
  },
  {
   "cell_type": "code",
   "execution_count": null,
   "id": "d2768640",
   "metadata": {},
   "outputs": [],
   "source": []
  },
  {
   "cell_type": "markdown",
   "id": "5a66040f",
   "metadata": {},
   "source": [
    "Create a DatetimeIndex with 3 different timestamps and assign it to a variable called `dates`"
   ]
  },
  {
   "cell_type": "code",
   "execution_count": null,
   "id": "2ed8fb3e",
   "metadata": {},
   "outputs": [],
   "source": []
  },
  {
   "cell_type": "markdown",
   "id": "9e1e8aec",
   "metadata": {},
   "source": [
    "Find the time between each one of these dates"
   ]
  },
  {
   "cell_type": "code",
   "execution_count": null,
   "id": "f8dbc1de",
   "metadata": {},
   "outputs": [],
   "source": []
  },
  {
   "cell_type": "markdown",
   "id": "58eb0c7a",
   "metadata": {},
   "source": [
    "Create a DataFrame with the `dates` as the index and add 3 new columns that hold the day name, month name, and the year."
   ]
  },
  {
   "cell_type": "code",
   "execution_count": null,
   "id": "2bba0454",
   "metadata": {},
   "outputs": [],
   "source": []
  },
  {
   "cell_type": "markdown",
   "id": "abfbc94e",
   "metadata": {},
   "source": [
    "Fill in the gaps of our DataFrame with every missing date (between our 3 dates), and make sure there are no NaNs"
   ]
  },
  {
   "cell_type": "code",
   "execution_count": null,
   "id": "d26c2652",
   "metadata": {},
   "outputs": [],
   "source": []
  },
  {
   "cell_type": "code",
   "execution_count": null,
   "id": "244ac007",
   "metadata": {},
   "outputs": [],
   "source": []
  },
  {
   "cell_type": "markdown",
   "id": "157fb1e4",
   "metadata": {},
   "source": [
    "Convert our DatetimeIndex to a PeriodIndex which represents a whole day per date."
   ]
  },
  {
   "cell_type": "code",
   "execution_count": null,
   "id": "ff3b486f",
   "metadata": {},
   "outputs": [],
   "source": []
  },
  {
   "cell_type": "code",
   "execution_count": null,
   "id": "d4dcea4b",
   "metadata": {},
   "outputs": [],
   "source": []
  }
 ],
 "metadata": {
  "kernelspec": {
   "display_name": "Python 3 (ipykernel)",
   "language": "python",
   "name": "python3"
  },
  "language_info": {
   "codemirror_mode": {
    "name": "ipython",
    "version": 3
   },
   "file_extension": ".py",
   "mimetype": "text/x-python",
   "name": "python",
   "nbconvert_exporter": "python",
   "pygments_lexer": "ipython3",
   "version": "3.10.9"
  }
 },
 "nbformat": 4,
 "nbformat_minor": 5
}
